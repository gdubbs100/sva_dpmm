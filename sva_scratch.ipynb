{
 "cells": [
  {
   "cell_type": "code",
   "execution_count": 1,
   "metadata": {},
   "outputs": [],
   "source": [
    "import torch\n",
    "import torch.nn as nn\n",
    "from torch.nn.functional import l1_loss\n",
    "import torch.distributions as dist\n",
    "\n",
    "import matplotlib.pyplot as plt\n",
    "import numpy as np\n",
    "import math"
   ]
  },
  {
   "cell_type": "code",
   "execution_count": 3,
   "metadata": {},
   "outputs": [],
   "source": [
    "## merge\n",
    "# 1. calculate rho over the entire dataset seen so far\n",
    "def calculate_rho(data, w, phi, sigma):\n",
    "    h=torch.vstack([dist.MultivariateNormal(_phi, sigma).log_prob(data) for _phi in phi])\n",
    "    log_weights = torch.log(w) + h.T # Compute log of weights * likelihood\n",
    "    log_rho = log_weights - torch.logsumexp(log_weights, dim=1, keepdim=True)  # Normalize\n",
    "    return torch.exp(log_rho).squeeze()\n",
    "\n",
    "# 2. calculate cluster similarity\n",
    "def calculate_cluster_similarity(rho, K):\n",
    "    ## TODO: make similarity metric an arg?\n",
    "    return (\n",
    "        torch.tensor(\n",
    "            [l1_loss(rho[:,i], rho[:,j], reduction='mean') if j > i else 0. \n",
    "            for i in range(K) for j in range(K)]\n",
    "        )\n",
    "        .view(K, K)\n",
    "    )\n",
    "\n",
    "# 3. identify those clusters to merge\n",
    "def get_clusters_to_merge(cluster_similarity_matrix, similarity_threshold):\n",
    "    mask = (cluster_similarity_matrix > 0) & (cluster_similarity_matrix < similarity_threshold)\n",
    "    to_merge = torch.nonzero(mask, as_tuple=False)\n",
    "    values_to_merge = cluster_similarity_matrix[mask]\n",
    "    order = torch.argsort(values_to_merge, descending=False) # order clusters in order of most similar\n",
    "    return to_merge[order]\n",
    "\n",
    "# 4. calculate merge statistics\n",
    "def get_merge_statistics(clusters_to_merge, phi, rho, K):\n",
    "    merged = []\n",
    "    all_to_prune = []\n",
    "    merge_statistics = dict()\n",
    "\n",
    "    for m in clusters_to_merge:\n",
    "        if (m[0] not in merged) and (m[1] not in merged):\n",
    "            all_to_prune.append(m[0].item()) # prune first idx\n",
    "            # use second idx as update\n",
    "            merge_statistics[m[1].item()] = {\n",
    "                'phi': (phi[m[0]] + phi[m[1]]) / 2,\n",
    "                'rho': rho[m[0]] + rho[m[1]]\n",
    "            }\n",
    "            merged.append(m[0])\n",
    "            merged.append(m[1])\n",
    "    \n",
    "    # convert to boolean tensor\n",
    "    all_to_prune = torch.tensor([i in all_to_prune for i in range(K)])\n",
    "    return merge_statistics, all_to_prune\n",
    "\n",
    "## apply merge, then apply prune\n",
    "def apply_merge(merge_statistics, phi, w):\n",
    "    phi = phi.detach() ## remove from computation graph temporarily\n",
    "    for k, v in merge_statistics.items():\n",
    "        phi[k] = v['phi']\n",
    "        w[k] = v['rho']\n",
    "    phi = phi.requires_grad_(True) # reattach to graph\n",
    "    return phi, w\n",
    "\n",
    "def prune(prune_idx: torch.Tensor, w: torch.Tensor, phi: torch.Tensor):\n",
    "    w = w[~prune_idx]\n",
    "    phi = phi[~prune_idx]\n",
    "    K = w.size(0)\n",
    "    return w, phi, K\n",
    "\n",
    "def merge_and_prune(data, w, phi, rho, sigma, K, similarity_threshold):\n",
    "    rho_prime = calculate_rho(data, w, phi, sigma)\n",
    "    cluster_similarity_matrix = calculate_cluster_similarity(rho_prime, K)\n",
    "    clusters_to_merge = get_clusters_to_merge(cluster_similarity_matrix, similarity_threshold)\n",
    "    merge_statistics, all_to_prune = get_merge_statistics(clusters_to_merge, phi, rho, K)\n",
    "    phi, w = apply_merge(merge_statistics, phi, w)\n",
    "    w, phi, K = prune(all_to_prune, w, phi)\n",
    "    return w, phi, K"
   ]
  },
  {
   "cell_type": "code",
   "execution_count": 37,
   "metadata": {},
   "outputs": [
    {
     "data": {
      "text/plain": [
       "<matplotlib.collections.PathCollection at 0x1a77d0539d0>"
      ]
     },
     "execution_count": 37,
     "metadata": {},
     "output_type": "execute_result"
    },
    {
     "data": {
      "image/png": "[encoded data removed]",
      "text/plain": [
       "<Figure size 640x480 with 1 Axes>"
      ]
     },
     "metadata": {},
     "output_type": "display_data"
    }
   ],
   "source": [
    "\n",
    "clusters = [\n",
    "    dist.MultivariateNormal(\n",
    "        torch.tensor([20*torch.cos(torch.tensor(i*math.pi/5)), 10*torch.sin(torch.tensor(i*math.pi/5))]),\n",
    "        torch.diag(torch.ones(2,))\n",
    "    ) for i in range(-5, 5)\n",
    "]\n",
    "N = 300\n",
    "raw_data = torch.stack([\n",
    "    d.sample(torch.tensor([N])) for d in clusters\n",
    "]).reshape(-1, 2) \n",
    "\n",
    "data = raw_data.detach().numpy()\n",
    "plt.scatter(\n",
    "    data[:,0],\n",
    "    data[:, 1]\n",
    ")"
   ]
  },
  {
   "cell_type": "code",
   "execution_count": 38,
   "metadata": {},
   "outputs": [
    {
     "name": "stdout",
     "output_type": "stream",
     "text": [
      "Increasing clusters to 2 at obs 1, located at: Parameter containing:\n",
      "tensor([ -9.8533, -15.6299], requires_grad=True)...\n",
      "Increasing clusters to 3 at obs 2, located at: Parameter containing:\n",
      "tensor([ 9.2321, 17.9154], requires_grad=True)...\n",
      "Increasing clusters to 4 at obs 6, located at: Parameter containing:\n",
      "tensor([-17.1268,   6.5792], requires_grad=True)...\n",
      "Increasing clusters to 5 at obs 40, located at: Parameter containing:\n",
      "tensor([-3.7933,  8.6066], requires_grad=True)...\n",
      "Increasing clusters to 6 at obs 44, located at: Parameter containing:\n",
      "tensor([ 7.1556, -8.6582], requires_grad=True)...\n",
      "Increasing clusters to 7 at obs 64, located at: Parameter containing:\n",
      "tensor([-15.9044,   6.1056], requires_grad=True)...\n",
      "Pruning, remaining clusters = 7 at obs 99...\n",
      "Increasing clusters to 8 at obs 103, located at: Parameter containing:\n",
      "tensor([15.9480, -0.0873], requires_grad=True)...\n",
      "Pruning, remaining clusters = 8 at obs 199...\n",
      "Pruning, remaining clusters = 8 at obs 299...\n",
      "Pruning, remaining clusters = 8 at obs 399...\n",
      "Pruning, remaining clusters = 8 at obs 499...\n",
      "Pruning, remaining clusters = 8 at obs 599...\n",
      "Pruning, remaining clusters = 8 at obs 699...\n",
      "Pruning, remaining clusters = 8 at obs 799...\n",
      "Pruning, remaining clusters = 8 at obs 899...\n",
      "Pruning, remaining clusters = 8 at obs 999...\n",
      "Pruning, remaining clusters = 8 at obs 1099...\n",
      "Pruning, remaining clusters = 8 at obs 1199...\n",
      "Pruning, remaining clusters = 8 at obs 1299...\n",
      "Pruning, remaining clusters = 8 at obs 1399...\n",
      "Pruning, remaining clusters = 8 at obs 1499...\n",
      "Pruning, remaining clusters = 8 at obs 1599...\n",
      "Pruning, remaining clusters = 8 at obs 1699...\n",
      "Pruning, remaining clusters = 8 at obs 1799...\n",
      "Pruning, remaining clusters = 8 at obs 1899...\n",
      "Pruning, remaining clusters = 8 at obs 1999...\n",
      "Pruning, remaining clusters = 8 at obs 2099...\n",
      "Increasing clusters to 9 at obs 2114, located at: Parameter containing:\n",
      "tensor([17.6817, -4.9989], requires_grad=True)...\n",
      "Pruning, remaining clusters = 8 at obs 2199...\n",
      "Pruning, remaining clusters = 8 at obs 2299...\n",
      "Pruning, remaining clusters = 8 at obs 2399...\n",
      "Pruning, remaining clusters = 8 at obs 2499...\n",
      "Pruning, remaining clusters = 8 at obs 2599...\n",
      "Pruning, remaining clusters = 8 at obs 2699...\n",
      "Pruning, remaining clusters = 8 at obs 2799...\n",
      "Pruning, remaining clusters = 8 at obs 2899...\n"
     ]
    }
   ],
   "source": [
    "n = raw_data.size(0)\n",
    "lr = 1.0e-3\n",
    "eps_new = .99\n",
    "\n",
    "## pruning\n",
    "eps_prune = .01\n",
    "prune_freq = 100\n",
    "\n",
    "## merging\n",
    "eps_merge = .1\n",
    "# merge_freq = 1000\n",
    "\n",
    "K = 1\n",
    "rho = torch.tensor([1.])\n",
    "w = torch.tensor([1.])\n",
    "alpha = torch.tensor([1.])\n",
    "## set up base dist (mu of theta)\n",
    "sigma = torch.diag(torch.ones(2,))\n",
    "mu0 = torch.zeros((2,))\n",
    "base_dist = dist.MultivariateNormal(mu0, 100*torch.diag(torch.ones(2,)))\n",
    "\n",
    "## create first phi\n",
    "phi = torch.nn.Parameter(raw_data[0,:]).unsqueeze(0)\n",
    "\n",
    "## shuffle data\n",
    "shuffdex = np.array(range(n))\n",
    "np.random.shuffle(shuffdex)\n",
    "data = raw_data[shuffdex,:]\n",
    "\n",
    "for idx, i in enumerate(data[1:,:]):\n",
    "    if (idx+1) % prune_freq == 0:\n",
    "        to_prune = (w / w.sum()) < eps_prune\n",
    "        w, phi, K = prune(to_prune, w, phi)\n",
    "        print(f\"Pruning, remaining clusters = {K} at obs {idx}...\")\n",
    "\n",
    "    # if (idx+1) % prune_freq == 0:\n",
    "    #     to_prune = (w / w.sum()) < eps_prune\n",
    "    #     prune_w = w[to_prune]\n",
    "    #     prune_phi = phi[to_prune]\n",
    "    #     print(\n",
    "    #         f\"Pruning at {idx + 1}...\", \n",
    "    #         f\"W:= {prune_w}\",\n",
    "    #         f\"phi:= {prune_phi}\",\n",
    "    #         sep='\\n'\n",
    "    #     )\n",
    "    #     w, phi, K = prune(to_prune, w, phi)\n",
    "        # w, phi, K = merge_and_prune(data[:idx], w, phi, rho, sigma, K, eps_merge)\n",
    "        # print(f\"merged at {idx+1}: phi: {phi}, K: {K}\")\n",
    "\n",
    "\n",
    "\n",
    "\n",
    "\n",
    "    new_phi = torch.nn.Parameter(base_dist.sample())\n",
    "    _phi = torch.vstack((phi, new_phi))\n",
    "    _w = torch.concat((w, alpha))\n",
    "\n",
    "    rho = calculate_rho(i, _w, _phi, sigma)\n",
    "\n",
    "\n",
    "\n",
    "    if rho[K] > eps_new:\n",
    "        # w is sum of rho across all previous obs\n",
    "        w += rho[:K]\n",
    "        w_next = torch.tensor([rho[K]])\n",
    "        w = torch.concat((w, w_next))\n",
    "\n",
    "        # add new params\n",
    "        phi = torch.vstack((phi, new_phi))\n",
    "        K += 1\n",
    "        print(f\"Increasing clusters to {K} at obs {idx}, located at: {new_phi}...\")\n",
    "\n",
    "    else:\n",
    "        # renormalise to exclude K+1\n",
    "        rho = rho[:K] / rho[:K].sum()\n",
    "\n",
    "        # w is sum of rho across all previous obs\n",
    "        w += rho[:K]\n",
    "\n",
    "    d = np.min([1000, (idx+1)**.61])\n",
    "    to_update = (base_dist.log_prob(phi) + d*rho.detach()*( dist.MultivariateNormal(phi, sigma).log_prob(i))).mean()\n",
    "    # to_update = (rho.detach()*( dist.MultivariateNormal(phi, sigma).log_prob(i))).mean()\n",
    "    \n",
    "\n",
    "    grad_phi = torch.autograd.grad(to_update, phi,  retain_graph=True)[0]  # Compute gradient manually\n",
    "    phi = phi + 1/d * grad_phi  # Apply gradient update\n",
    "    phi = phi.detach().requires_grad_(True)  # Detach to prevent old computation graph accumulation\n"
   ]
  },
  {
   "cell_type": "code",
   "execution_count": 39,
   "metadata": {},
   "outputs": [
    {
     "data": {
      "text/plain": [
       "<matplotlib.legend.Legend at 0x1a77d0d4b90>"
      ]
     },
     "execution_count": 39,
     "metadata": {},
     "output_type": "execute_result"
    },
    {
     "data": {
      "image/png": "[encoded data removed]",
      "text/plain": [
       "<Figure size 640x480 with 1 Axes>"
      ]
     },
     "metadata": {},
     "output_type": "display_data"
    }
   ],
   "source": [
    "phi_np = phi.detach().numpy()\n",
    "\n",
    "clusters = torch.argmax(\n",
    "    torch.exp(dist.MultivariateNormal(phi, sigma).log_prob(data.unsqueeze(1)) ), \n",
    "    axis=1).detach().numpy()\n",
    "\n",
    "k = data.detach().numpy()\n",
    "\n",
    "probs = (w / w.sum()).detach().numpy()\n",
    "plt.scatter(\n",
    "    k[:,0], k[:,1],\n",
    "    label='data',\n",
    "    c = clusters\n",
    ")\n",
    "plt.scatter(\n",
    "    phi_np[:,0],\n",
    "    phi_np[:,1],\n",
    "    label='means',\n",
    "    c='red',\n",
    "    # alpha = probs\n",
    ")\n",
    "\n",
    "plt.legend()"
   ]
  },
  {
   "cell_type": "code",
   "execution_count": 9,
   "metadata": {},
   "outputs": [
    {
     "data": {
      "text/plain": [
       "0.008198364952831213"
      ]
     },
     "execution_count": 9,
     "metadata": {},
     "output_type": "execute_result"
    }
   ],
   "source": [
    "1/(300*10)**.6"
   ]
  },
  {
   "cell_type": "code",
   "execution_count": 11,
   "metadata": {},
   "outputs": [
    {
     "data": {
      "text/plain": [
       "1e-05"
      ]
     },
     "execution_count": 11,
     "metadata": {},
     "output_type": "execute_result"
    }
   ],
   "source": [
    "1/100000"
   ]
  },
  {
   "cell_type": "code",
   "execution_count": null,
   "metadata": {},
   "outputs": [
    {
     "data": {
      "text/plain": [
       "tensor([0.1634, 0.0581, 0.1425, 0.0745, 0.0103, 0.1679, 0.0855, 0.1489, 0.1488],\n",
       "       grad_fn=<DivBackward0>)"
      ]
     },
     "execution_count": 102,
     "metadata": {},
     "output_type": "execute_result"
    }
   ],
   "source": [
    "def prune(prune_idx: torch.Tensor, w: torch.Tensor, phi: torch.Tensor):\n",
    "    w = w[~prune_idx]\n",
    "    phi = phi[~prune_idx]\n",
    "    K = w.size(0)\n",
    "    return w, phi, K"
   ]
  },
  {
   "cell_type": "code",
   "execution_count": 17,
   "metadata": {},
   "outputs": [
    {
     "data": {
      "text/plain": [
       "tensor(True)"
      ]
     },
     "execution_count": 17,
     "metadata": {},
     "output_type": "execute_result"
    }
   ],
   "source": [
    "(w == torch.tensor([.2, .6])).all()"
   ]
  },
  {
   "cell_type": "code",
   "execution_count": 52,
   "metadata": {},
   "outputs": [
    {
     "name": "stdout",
     "output_type": "stream",
     "text": [
      "tensor([[1, 2],\n",
      "        [0, 2],\n",
      "        [0, 1]])\n"
     ]
    }
   ],
   "source": [
    "cluster_similarity_matrix = torch.tensor(\n",
    "    [\n",
    "        [0, .13, .12],\n",
    "        [0, 0, .11],\n",
    "        [0, 0, 0]\n",
    "    ]\n",
    ")\n",
    "clusters_to_merge = get_clusters_to_merge(cluster_similarity_matrix, 0.2)\n",
    "print(clusters_to_merge)"
   ]
  },
  {
   "cell_type": "code",
   "execution_count": null,
   "metadata": {},
   "outputs": [
    {
     "data": {
      "text/plain": [
       "({2: {'phi': tensor([2.5000, 2.5000]), 'rho': 5}},\n",
       " tensor([False,  True, False]))"
      ]
     },
     "execution_count": 51,
     "metadata": {},
     "output_type": "execute_result"
    }
   ],
   "source": [
    "def get_merge_statistics(clusters_to_merge, phi, rho, K):\n",
    "    merged = []\n",
    "    all_to_prune = []\n",
    "    merge_statistics = dict()\n",
    "\n",
    "    for m in clusters_to_merge:\n",
    "        if (m[0] not in merged) and (m[1] not in merged):\n",
    "            all_to_prune.append(m[0].item()) # prune first idx\n",
    "            # use second idx as update\n",
    "            merge_statistics[m[1].item()] = {\n",
    "                'phi': (phi[m[0]] + phi[m[1]]) / 2,\n",
    "                'rho': rho[m[0]] + rho[m[1]]\n",
    "            }\n",
    "            merged.append(m[0])\n",
    "            merged.append(m[1])\n",
    "    \n",
    "    # convert to boolean tensor\n",
    "    all_to_prune = torch.tensor([i in all_to_prune for i in range(K)])\n",
    "    return merge_statistics, all_to_prune\n",
    "\n",
    "\n",
    "\n",
    "phi = torch.tensor([[1,1], [2,2], [3,3]])\n",
    "K = 3\n",
    "rho = [1,2,3]\n",
    "get_merge_statistics(clusters_to_merge, phi, rho, K)"
   ]
  },
  {
   "cell_type": "code",
   "execution_count": null,
   "metadata": {},
   "outputs": [
    {
     "data": {
      "text/plain": [
       "tensor([[0.0000e+00, 9.3306e-05, 3.3063e-05, 7.3302e-01],\n",
       "        [0.0000e+00, 0.0000e+00, 6.0244e-05, 7.3293e-01],\n",
       "        [0.0000e+00, 0.0000e+00, 0.0000e+00, 7.3299e-01],\n",
       "        [0.0000e+00, 0.0000e+00, 0.0000e+00, 0.0000e+00]])"
      ]
     },
     "execution_count": 5,
     "metadata": {},
     "output_type": "execute_result"
    }
   ],
   "source": [
    "from algorithms.sva import *\n",
    "data = torch.tensor([\n",
    "    [1., 1.],\n",
    "    [1, 1],\n",
    "    [4., 4.],\n",
    "    [4., 4.],\n",
    "    [4., 4.]\n",
    "])\n",
    "phi = torch.tensor([[.9,.9], [1.1,1.1], [.9, 1.1], [4.,4.]])\n",
    "sigma = torch.diag(torch.ones(2))\n",
    "K = 4\n",
    "w = torch.tensor([1.,1.,1.,1.])\n",
    "# rho = torch.tensor([1,2,3])\n",
    "rho_prime = calculate_rho(data, w, phi, sigma)\n",
    "# rho_prime\n",
    "\n",
    "cluster_distance_matrix = calculate_cluster_distance(rho_prime,K)\n",
    "cluster_distance_matrix"
   ]
  },
  {
   "cell_type": "code",
   "execution_count": 29,
   "metadata": {},
   "outputs": [],
   "source": [
    "t = torch.tensor([2.,1.,1.], requires_grad=True)\n",
    "\n",
    "loss = torch.pow(t,2).sum()\n",
    "loss.backward()"
   ]
  },
  {
   "cell_type": "code",
   "execution_count": 59,
   "metadata": {},
   "outputs": [],
   "source": [
    "import torch\n",
    "\n",
    "x = torch.ones(5)  # input tensor\n",
    "y = torch.zeros(3)  # expected output\n",
    "w = torch.tensor(\n",
    "    [[ 0.7307,  0.5456,  0.2734],\n",
    "        [-0.4752, -0.4351,  1.7031],\n",
    "        [-0.5691, -0.8719, -0.4268],\n",
    "        [-0.3507,  1.3466, -0.2514],\n",
    "        [-1.0563, -0.5244,  1.4734]],\n",
    "        requires_grad = True\n",
    ")\n",
    "        #torch.randn(5, 3, requires_grad=True)\n",
    "z = torch.matmul(x, w)\n",
    "loss = torch.nn.functional.binary_cross_entropy_with_logits(z, y)"
   ]
  },
  {
   "cell_type": "code",
   "execution_count": null,
   "metadata": {},
   "outputs": [
    {
     "name": "stdout",
     "output_type": "stream",
     "text": [
      "{'loc': tensor([[ 0.7106,  0.7515],\n",
      "        [-0.9957,  0.8966]], grad_fn=<StackBackward0>), 'covariance_matrix': tensor([[[ 4.0494, -1.4053],\n",
      "         [-1.4053,  0.5046]],\n",
      "\n",
      "        [[ 0.2618,  0.2780],\n",
      "         [ 0.2780,  0.5733]]], grad_fn=<StackBackward0>)}\n",
      "tensor([ -4.1127, -15.4427], grad_fn=<SubBackward0>)\n",
      "{'loc': tensor([[ 0.7106,  0.7515],\n",
      "        [-0.9957,  0.8966]], grad_fn=<StackBackward0>), 'covariance_matrix': tensor([[[ 4.0494, -1.4053],\n",
      "         [-1.4053,  0.5046]],\n",
      "\n",
      "        [[ 0.2618,  0.2780],\n",
      "         [ 0.2780,  0.5733]]], grad_fn=<StackBackward0>)}\n"
     ]
    },
    {
     "name": "stderr",
     "output_type": "stream",
     "text": [
      "c:\\Users\\61417\\Documents\\misc_projects\\sva_dpmm\\venv\\Lib\\site-packages\\torch\\distributions\\wishart.py:275: UserWarning: Singular sample detected.\n",
      "  warnings.warn(\"Singular sample detected.\")\n"
     ]
    }
   ],
   "source": [
    "from typing import Dict, Tuple\n",
    "class DistDPMMParam:\n",
    "\n",
    "    def __init__(\n",
    "        self, \n",
    "        name: str,\n",
    "        value: torch.distributions.Distribution | torch.Tensor,\n",
    "        ):\n",
    "        self.name = name\n",
    "        self.value = value\n",
    "    \n",
    "    def get_value(self):\n",
    "        if isinstance(self.value, torch.distributions.Distribution):\n",
    "            return self.value.sample()\n",
    "        else:\n",
    "            return self.value\n",
    "    \n",
    "    def log_prob(self, x):\n",
    "        if isinstance(self.value, torch.distributions.Distribution):\n",
    "            return self.value.log_prob(x)\n",
    "        else:\n",
    "            ## NOTE: this works nicely for our purposes, but is this a sensible output?\n",
    "            return 0\n",
    "\n",
    "class BaseDist:\n",
    "\n",
    "    def __init__(self, parameters):\n",
    "        self.parameters = parameters\n",
    "    \n",
    "    def sample(self):\n",
    "        return {\n",
    "            param.name: param.get_value() for param in parameters\n",
    "        }\n",
    "    \n",
    "    def log_prob(self, parameter_values):\n",
    "        return torch.stack(\n",
    "            [param.log_prob(parameter_values[param.name])\n",
    "            for param in self.parameters]\n",
    "        ).sum(axis=1)\n",
    "\n",
    "class MixtureDPMM:\n",
    "\n",
    "    def __init__(self, \n",
    "        mixture_dist: torch.distributions.Distribution, \n",
    "        parameters: Dict[str, torch.Tensor],\n",
    "        learnable_parameters: Dict[str, bool]\n",
    "        ):\n",
    "        self.mixture_dist = mixture_dist # the type of distribution used\n",
    "        self.parameters = parameters # dictionary of parameter values\n",
    "        self.learnable_parameters = learnable_parameters # which parameters to keep gradients for\n",
    "        self.K = 1\n",
    "\n",
    "    def log_prob(self, x):\n",
    "        return self.mixture_dist(**self.parameters).log_prob(x)\n",
    "\n",
    "    def add_parameters(self, new_params):\n",
    "        ## TODO: if parameter is learnable use nn.Parameter()\n",
    "        for param_name, param_values in new_params.items():\n",
    "            self.parameters[param_name] = torch.stack(\n",
    "                (\n",
    "                    nn.Parameter(param_values, requires_grad=self.learnable_parameters[param_name]), \n",
    "                    self.parameters[param_name])\n",
    "            )\n",
    "        self.K += 1\n",
    "    \n",
    "    def remove_parameters(self, remove_mask):\n",
    "        for param_name in self.parameters.keys():\n",
    "            self.parameters[param_name] = self.parameters[param_name][~remove_mask]\n",
    "        self.K -= 1\n",
    "    \n",
    "    def remove_final_parameter(self):\n",
    "        remove_mask = torch.tensor([(i+1)==self.K for i in range(self.K)])\n",
    "        self.remove_parameters(remove_mask)\n",
    "\n",
    "    def update_learnable_parameters(self, loss, lr):\n",
    "        for param_name, is_learnable in self.learnable_parameters.items():\n",
    "            if is_learnable:\n",
    "                grad = torch.autograd.grad(loss, self.parameters[param_name], retrain_graph=True)[0]\n",
    "                self.parameters[param_name] = self.parameters[param_name] + lr * grad\n",
    "                self.parameters[param_name] = self.parameters[param_name].detach().requires_grad_(True)\n",
    "\n",
    "\n",
    "mu0 = DistDPMMParam(name='loc', value = dist.MultivariateNormal(torch.zeros(2), torch.eye(2)))\n",
    "sigma0 = DistDPMMParam(\n",
    "    name='covariance_matrix', \n",
    "    value = dist.Wishart(2, torch.eye(2))\n",
    "    # value = torch.eye(2)\n",
    ")\n",
    "parameters = [\n",
    "    mu0, sigma0\n",
    "]\n",
    "\n",
    "G = BaseDist(parameters)\n",
    "s = G.sample()\n",
    "# k = dist.MultivariateNormal(**s)\n",
    "mixture = MixtureDPMM(\n",
    "    dist.MultivariateNormal, \n",
    "    s, \n",
    "    learnable_parameters={'loc': True, \"covariance_matrix\": True}\n",
    ")\n",
    "new_s = G.sample()\n",
    "mixture.add_parameters(new_s)\n",
    "lp = mixture.log_prob(torch.tensor([1,1]))\n",
    "print(mixture.parameters)\n",
    "print(lp)\n",
    "## how to remove the last parameter?\n",
    "# get mask\n",
    "\n",
    "# mixture.remove_final_parameter()\n",
    "print(mixture.parameters)\n",
    "\n",
    "# print(mixture.parameters)"
   ]
  },
  {
   "cell_type": "code",
   "execution_count": 197,
   "metadata": {},
   "outputs": [
    {
     "data": {
      "text/plain": [
       "tensor(-2.8379)"
      ]
     },
     "execution_count": 197,
     "metadata": {},
     "output_type": "execute_result"
    }
   ],
   "source": [
    "G.parameters[0].log_prob(torch.tensor([1,1]))"
   ]
  },
  {
   "cell_type": "code",
   "execution_count": 198,
   "metadata": {},
   "outputs": [
    {
     "data": {
      "text/plain": [
       "{'loc': tensor([[-0.3564, -1.5437],\n",
       "         [ 0.9132, -0.5423]], grad_fn=<StackBackward0>),\n",
       " 'covariance_matrix': tensor([[[ 7.0259, -2.3469],\n",
       "          [-2.3469,  6.3664]],\n",
       " \n",
       "         [[ 3.6696, -0.6898],\n",
       "          [-0.6898,  0.9425]]], grad_fn=<StackBackward0>)}"
      ]
     },
     "execution_count": 198,
     "metadata": {},
     "output_type": "execute_result"
    }
   ],
   "source": [
    "mixture.parameters"
   ]
  },
  {
   "cell_type": "code",
   "execution_count": 215,
   "metadata": {},
   "outputs": [],
   "source": [
    "base_log_probs = G.log_prob(mixture.parameters)\n",
    "mixture_log_probs = mixture.log_prob(torch.tensor([1,1]))"
   ]
  },
  {
   "cell_type": "code",
   "execution_count": 216,
   "metadata": {},
   "outputs": [
    {
     "data": {
      "text/plain": [
       "tensor([ -4.1127, -15.4427], grad_fn=<SubBackward0>)"
      ]
     },
     "execution_count": 216,
     "metadata": {},
     "output_type": "execute_result"
    }
   ],
   "source": [
    "mixture_log_probs"
   ]
  },
  {
   "cell_type": "code",
   "execution_count": null,
   "metadata": {},
   "outputs": [
    {
     "data": {
      "text/plain": [
       "tensor([ -5.1344, -16.4638], grad_fn=<MulBackward0>)"
      ]
     },
     "execution_count": 221,
     "metadata": {},
     "output_type": "execute_result"
    }
   ],
   "source": [
    "loss = 1/5*(base_log_probs + 5*mixture_log_probs)"
   ]
  },
  {
   "cell_type": "code",
   "execution_count": null,
   "metadata": {},
   "outputs": [],
   "source": [
    "for k in parameters.keys():\n",
    "    grad = torch.autograd.grad(loss, parameters[k], retrain_graph=True)[0]\n",
    "    self.parameters[k] = self.parameters[k] + lr * grad\n",
    "    self.parameters[k] = self.parameters[k].detach().requires_grad_(True)"
   ]
  },
  {
   "cell_type": "code",
   "execution_count": null,
   "metadata": {},
   "outputs": [],
   "source": [
    "        grad_phi = torch.autograd.grad(loss, self.phi,  retain_graph=True)[0]  # Compute gradient manually\n",
    "        self.phi = self.phi + 1/d * grad_phi  # Apply gradient update\n",
    "        self.phi = self.phi.detach().requires_grad_(True) # prevent old graph accumulation"
   ]
  },
  {
   "cell_type": "code",
   "execution_count": 203,
   "metadata": {},
   "outputs": [
    {
     "data": {
      "text/plain": [
       "tensor([-18.7625, -11.6650], grad_fn=<AddBackward0>)"
      ]
     },
     "execution_count": 203,
     "metadata": {},
     "output_type": "execute_result"
    }
   ],
   "source": [
    "base_log_probs['loc'] + base_log_probs['covariance_matrix'] + mixture_log_probs"
   ]
  },
  {
   "cell_type": "code",
   "execution_count": 201,
   "metadata": {},
   "outputs": [
    {
     "data": {
      "text/plain": [
       "tensor([-4.6078, -3.8797], grad_fn=<SubBackward0>)"
      ]
     },
     "execution_count": 201,
     "metadata": {},
     "output_type": "execute_result"
    }
   ],
   "source": [
    "mixture_log_probs"
   ]
  },
  {
   "cell_type": "code",
   "execution_count": 184,
   "metadata": {},
   "outputs": [
    {
     "data": {
      "text/plain": [
       "tensor([False,  True])"
      ]
     },
     "execution_count": 184,
     "metadata": {},
     "output_type": "execute_result"
    }
   ],
   "source": [
    "K=2\n",
    "torch.tensor([(i+1)==K for i in range(mixture.K)])"
   ]
  },
  {
   "cell_type": "code",
   "execution_count": 174,
   "metadata": {},
   "outputs": [
    {
     "data": {
      "text/plain": [
       "[tensor(-2.6944), tensor(-5.1368)]"
      ]
     },
     "execution_count": 174,
     "metadata": {},
     "output_type": "execute_result"
    }
   ],
   "source": [
    "mixture.get_log_probs(torch.tensor([1,1]))"
   ]
  },
  {
   "cell_type": "code",
   "execution_count": 178,
   "metadata": {},
   "outputs": [
    {
     "data": {
      "text/plain": [
       "tensor([-2.6944, -5.1368])"
      ]
     },
     "execution_count": 178,
     "metadata": {},
     "output_type": "execute_result"
    }
   ],
   "source": [
    "mixture.mixture_dist(**mixture.parameters).log_prob(torch.tensor([1,1]))"
   ]
  },
  {
   "cell_type": "code",
   "execution_count": 173,
   "metadata": {},
   "outputs": [
    {
     "data": {
      "text/plain": [
       "[(tensor([ 0.3143, -0.4002]),\n",
       "  tensor([[0.4970, 0.1642],\n",
       "          [0.1642, 0.8929]])),\n",
       " (tensor([-0.0997, -1.2206]),\n",
       "  tensor([[ 4.4007, -2.0601],\n",
       "          [-2.0601,  2.7113]]))]"
      ]
     },
     "execution_count": 173,
     "metadata": {},
     "output_type": "execute_result"
    }
   ],
   "source": [
    "list(zip(*[mixture.parameters[k] for k in mixture.parameters.keys()]))"
   ]
  },
  {
   "cell_type": "code",
   "execution_count": 169,
   "metadata": {},
   "outputs": [
    {
     "data": {
      "text/plain": [
       "{'loc': tensor([0.6709, 0.2051]),\n",
       " 'covariance_matrix': tensor([[0.2916, 0.8757],\n",
       "         [0.8757, 2.6366]])}"
      ]
     },
     "execution_count": 169,
     "metadata": {},
     "output_type": "execute_result"
    }
   ],
   "source": [
    "mixture.parameters"
   ]
  },
  {
   "cell_type": "code",
   "execution_count": 119,
   "metadata": {},
   "outputs": [],
   "source": [
    "## base dists\n",
    "# mu0 = torch.zeros(2)\n",
    "# sigma0 = torch.eye(2)\n",
    "# G_mu = dist.MultivariateNormal(mu0, sigma0)\n",
    "# G_sigma = dist.Wishart(df=2,precision_matrix=sigma0)\n",
    "mu0 = DistDPMMParam(name='loc', value = dist.MultivariateNormal(torch.zeros(2), torch.eye(2)))\n",
    "sigma0 = DistDPMMParam(\n",
    "    name='covariance_matrix', \n",
    "    value = dist.Wishart(2, torch.eye(2))\n",
    "    # value = torch.eye(2)\n",
    ")\n",
    "parameters = [\n",
    "    mu0, sigma0\n",
    "]\n",
    "\n",
    "G = BaseDist(parameters)\n",
    "s = G.sample()\n",
    "k = dist.MultivariateNormal(**s)"
   ]
  },
  {
   "cell_type": "code",
   "execution_count": 120,
   "metadata": {},
   "outputs": [
    {
     "data": {
      "text/plain": [
       "tensor([[10.2441,  5.3938],\n",
       "        [ 5.3938,  2.9047]])"
      ]
     },
     "execution_count": 120,
     "metadata": {},
     "output_type": "execute_result"
    }
   ],
   "source": [
    "k.covariance_matrix"
   ]
  },
  {
   "cell_type": "code",
   "execution_count": null,
   "metadata": {},
   "outputs": [],
   "source": [
    "k"
   ]
  },
  {
   "cell_type": "code",
   "execution_count": null,
   "metadata": {},
   "outputs": [
    {
     "data": {
      "text/plain": [
       "tensor([[6.5951, 2.2006],\n",
       "        [2.2006, 2.5922]])"
      ]
     },
     "execution_count": 108,
     "metadata": {},
     "output_type": "execute_result"
    }
   ],
   "source": [
    "class DistDPMM:\n",
    "\n",
    "    def __init__(self, \n",
    "        distribution: torch.distributions.Distribution, \n",
    "        params: list[DistDPMMParam]\n",
    "        ):\n",
    "        self.params = {param.name:param for param in params}\n",
    "        self.distribution = distribution(**self.params)\n",
    "    \n",
    "    def sample(self):\n",
    "\n",
    "\n"
   ]
  },
  {
   "cell_type": "code",
   "execution_count": 101,
   "metadata": {},
   "outputs": [
    {
     "data": {
      "text/plain": [
       "tensor([[3.4923, 1.8635],\n",
       "        [1.8635, 2.9276]])"
      ]
     },
     "execution_count": 101,
     "metadata": {},
     "output_type": "execute_result"
    }
   ],
   "source": [
    "w = dist.Wishart(df=2,covariance_matrix=sigma0)\n",
    "w.sample()"
   ]
  },
  {
   "cell_type": "code",
   "execution_count": null,
   "metadata": {},
   "outputs": [],
   "source": [
    "shape = torch.tensor([3.0, 4.0])  # Shape for each dimension\n",
    "scale = torch.tensor([2.0, 5.0])  # Scale for each dimension\n",
    "cluster_dist = dist.MultivariateNormal\n",
    "base_dists = {\n",
    "    'scale': dist.MultivariateNormal(torch.zeros(2), torch.eye(2)),\n",
    "    'covariance_matrix': dist.InverseGamma(shape, scale)\n",
    "    }\n",
    "dpmm = DistDPMM(cluster_dist, base_dist)"
   ]
  },
  {
   "cell_type": "code",
   "execution_count": 91,
   "metadata": {},
   "outputs": [
    {
     "ename": "ValueError",
     "evalue": "covariance_matrix must be at least two-dimensional, with optional leading batch dimensions",
     "output_type": "error",
     "traceback": [
      "\u001b[1;31m---------------------------------------------------------------------------\u001b[0m",
      "\u001b[1;31mValueError\u001b[0m                                Traceback (most recent call last)",
      "Cell \u001b[1;32mIn[91], line 1\u001b[0m\n\u001b[1;32m----> 1\u001b[0m \u001b[43mdist\u001b[49m\u001b[38;5;241;43m.\u001b[39;49m\u001b[43mMultivariateNormal\u001b[49m\u001b[43m(\u001b[49m\u001b[43mtorch\u001b[49m\u001b[38;5;241;43m.\u001b[39;49m\u001b[43mzeros\u001b[49m\u001b[43m(\u001b[49m\u001b[38;5;241;43m2\u001b[39;49m\u001b[43m)\u001b[49m\u001b[43m,\u001b[49m\u001b[43m \u001b[49m\u001b[43mig\u001b[49m\u001b[38;5;241;43m.\u001b[39;49m\u001b[43msample\u001b[49m\u001b[43m(\u001b[49m\u001b[43m)\u001b[49m\u001b[43m)\u001b[49m\n",
      "File \u001b[1;32mc:\\Users\\61417\\Documents\\misc_projects\\sva_dpmm\\venv\\Lib\\site-packages\\torch\\distributions\\multivariate_normal.py:159\u001b[0m, in \u001b[0;36mMultivariateNormal.__init__\u001b[1;34m(self, loc, covariance_matrix, precision_matrix, scale_tril, validate_args)\u001b[0m\n\u001b[0;32m    157\u001b[0m \u001b[38;5;28;01melif\u001b[39;00m covariance_matrix \u001b[38;5;129;01mis\u001b[39;00m \u001b[38;5;129;01mnot\u001b[39;00m \u001b[38;5;28;01mNone\u001b[39;00m:\n\u001b[0;32m    158\u001b[0m     \u001b[38;5;28;01mif\u001b[39;00m covariance_matrix\u001b[38;5;241m.\u001b[39mdim() \u001b[38;5;241m<\u001b[39m \u001b[38;5;241m2\u001b[39m:\n\u001b[1;32m--> 159\u001b[0m         \u001b[38;5;28;01mraise\u001b[39;00m \u001b[38;5;167;01mValueError\u001b[39;00m(\n\u001b[0;32m    160\u001b[0m             \u001b[38;5;124m\"\u001b[39m\u001b[38;5;124mcovariance_matrix must be at least two-dimensional, \u001b[39m\u001b[38;5;124m\"\u001b[39m\n\u001b[0;32m    161\u001b[0m             \u001b[38;5;124m\"\u001b[39m\u001b[38;5;124mwith optional leading batch dimensions\u001b[39m\u001b[38;5;124m\"\u001b[39m\n\u001b[0;32m    162\u001b[0m         )\n\u001b[0;32m    163\u001b[0m     batch_shape \u001b[38;5;241m=\u001b[39m torch\u001b[38;5;241m.\u001b[39mbroadcast_shapes(\n\u001b[0;32m    164\u001b[0m         covariance_matrix\u001b[38;5;241m.\u001b[39mshape[:\u001b[38;5;241m-\u001b[39m\u001b[38;5;241m2\u001b[39m], loc\u001b[38;5;241m.\u001b[39mshape[:\u001b[38;5;241m-\u001b[39m\u001b[38;5;241m1\u001b[39m]\n\u001b[0;32m    165\u001b[0m     )\n\u001b[0;32m    166\u001b[0m     \u001b[38;5;28mself\u001b[39m\u001b[38;5;241m.\u001b[39mcovariance_matrix \u001b[38;5;241m=\u001b[39m covariance_matrix\u001b[38;5;241m.\u001b[39mexpand(batch_shape \u001b[38;5;241m+\u001b[39m (\u001b[38;5;241m-\u001b[39m\u001b[38;5;241m1\u001b[39m, \u001b[38;5;241m-\u001b[39m\u001b[38;5;241m1\u001b[39m))\n",
      "\u001b[1;31mValueError\u001b[0m: covariance_matrix must be at least two-dimensional, with optional leading batch dimensions"
     ]
    }
   ],
   "source": [
    "dist.MultivariateNormal(torch.zeros(2), ig.sample())"
   ]
  },
  {
   "cell_type": "code",
   "execution_count": null,
   "metadata": {},
   "outputs": [],
   "source": [
    "tor"
   ]
  },
  {
   "cell_type": "code",
   "execution_count": null,
   "metadata": {},
   "outputs": [
    {
     "data": {
      "text/plain": [
       "tensor([[0.3661, 0.0000],\n",
       "        [0.0000, 1.3738]])"
      ]
     },
     "execution_count": 89,
     "metadata": {},
     "output_type": "execute_result"
    }
   ],
   "source": [
    "\n",
    "ig = dist.InverseGamma(shape, scale)\n",
    "torch.diag()\n"
   ]
  },
  {
   "cell_type": "code",
   "execution_count": 86,
   "metadata": {},
   "outputs": [
    {
     "data": {
      "text/plain": [
       "tensor([1.4238])"
      ]
     },
     "execution_count": 86,
     "metadata": {},
     "output_type": "execute_result"
    }
   ],
   "source": [
    "dpmm.base_dists['scale'].sample()\n",
    "dpmm.base_dists['covariance_matrix'].sample()"
   ]
  },
  {
   "cell_type": "code",
   "execution_count": 54,
   "metadata": {},
   "outputs": [
    {
     "name": "stdout",
     "output_type": "stream",
     "text": [
      "tensor([[0.0506, 0.1717, 0.3137],\n",
      "        [0.0506, 0.1717, 0.3137],\n",
      "        [0.0506, 0.1717, 0.3137],\n",
      "        [0.0506, 0.1717, 0.3137],\n",
      "        [0.0506, 0.1717, 0.3137]])\n"
     ]
    }
   ],
   "source": [
    "loss.backward()\n",
    "print(w.grad)\n"
   ]
  },
  {
   "cell_type": "code",
   "execution_count": 61,
   "metadata": {},
   "outputs": [
    {
     "name": "stdout",
     "output_type": "stream",
     "text": [
      "tensor([-1.4189, -1.4189, -1.4189, -1.4189, -1.4189])\n"
     ]
    }
   ],
   "source": [
    "policy = torch.distributions.Normal(torch.zeros(1), torch.ones(1))\n",
    "ploss = policy.log_prob(x)\n",
    "print(ploss)"
   ]
  },
  {
   "cell_type": "code",
   "execution_count": 62,
   "metadata": {},
   "outputs": [
    {
     "name": "stdout",
     "output_type": "stream",
     "text": [
      "tensor([[-0.0718, -0.2437, -0.4451],\n",
      "        [-0.0718, -0.2437, -0.4451],\n",
      "        [-0.0718, -0.2437, -0.4451],\n",
      "        [-0.0718, -0.2437, -0.4451],\n",
      "        [-0.0718, -0.2437, -0.4451]])\n"
     ]
    }
   ],
   "source": [
    "(ploss.detach() * loss).mean().backward()\n",
    "print(w.grad)"
   ]
  },
  {
   "cell_type": "code",
   "execution_count": 131,
   "metadata": {},
   "outputs": [
    {
     "data": {
      "text/plain": [
       "torch.Size([3, 18])"
      ]
     },
     "execution_count": 131,
     "metadata": {},
     "output_type": "execute_result"
    }
   ],
   "source": [
    "rho_test = calculate_rho(data[:3], w, phi, sigma)\n",
    "rho_test.size()"
   ]
  },
  {
   "cell_type": "code",
   "execution_count": 71,
   "metadata": {},
   "outputs": [
    {
     "data": {
      "text/plain": [
       "tensor([ 0.4560,  0.0000, -0.2522, -0.3642, -0.2522])"
      ]
     },
     "execution_count": 71,
     "metadata": {},
     "output_type": "execute_result"
    }
   ],
   "source": [
    "rho_prime[:,0] - rho_prime[:,1]"
   ]
  },
  {
   "cell_type": "code",
   "execution_count": 154,
   "metadata": {},
   "outputs": [
    {
     "data": {
      "text/plain": [
       "tensor([[0.0000, 0.6667, 0.0000],\n",
       "        [0.0000, 0.0000, 0.6667],\n",
       "        [0.0000, 0.0000, 0.0000]])"
      ]
     },
     "execution_count": 154,
     "metadata": {},
     "output_type": "execute_result"
    }
   ],
   "source": [
    "(\n",
    "        torch.tensor(\n",
    "            [l1_loss(rho_test[i,:], rho_test[j,:], reduction='mean') if j > i else 0. \n",
    "            for i in range(K) for j in range(K)]\n",
    "        )\n",
    "        .view(K, K)\n",
    "    )"
   ]
  },
  {
   "cell_type": "code",
   "execution_count": 79,
   "metadata": {},
   "outputs": [
    {
     "data": {
      "text/plain": [
       "(torch.Size([9, 3]), torch.Size([100, 9]))"
      ]
     },
     "execution_count": 79,
     "metadata": {},
     "output_type": "execute_result"
    }
   ],
   "source": [
    "rho_test.size(), rho.size()"
   ]
  },
  {
   "cell_type": "code",
   "execution_count": 83,
   "metadata": {},
   "outputs": [
    {
     "data": {
      "text/plain": [
       "tensor(0.6667)"
      ]
     },
     "execution_count": 83,
     "metadata": {},
     "output_type": "execute_result"
    }
   ],
   "source": [
    "l1_loss(rho1, rho3, reduction='mean')"
   ]
  },
  {
   "cell_type": "code",
   "execution_count": null,
   "metadata": {},
   "outputs": [],
   "source": []
  },
  {
   "cell_type": "code",
   "execution_count": 44,
   "metadata": {},
   "outputs": [
    {
     "data": {
      "text/plain": [
       "tensor([[0., 0., 0.],\n",
       "        [0., 0., 0.],\n",
       "        [0., 0., 0.]])"
      ]
     },
     "execution_count": 44,
     "metadata": {},
     "output_type": "execute_result"
    }
   ],
   "source": [
    "actual"
   ]
  }
 ],
 "metadata": {
  "kernelspec": {
   "display_name": "venv",
   "language": "python",
   "name": "python3"
  },
  "language_info": {
   "codemirror_mode": {
    "name": "ipython",
    "version": 3
   },
   "file_extension": ".py",
   "mimetype": "text/x-python",
   "name": "python",
   "nbconvert_exporter": "python",
   "pygments_lexer": "ipython3",
   "version": "3.13.1"
  }
 },
 "nbformat": 4,
 "nbformat_minor": 2
}
