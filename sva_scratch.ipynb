{
 "cells": [
  {
   "cell_type": "code",
   "execution_count": 2,
   "metadata": {},
   "outputs": [],
   "source": [
    "import torch\n",
    "import torch.nn as nn\n",
    "from torch.nn.functional import l1_loss\n",
    "import torch.distributions as dist\n",
    "\n",
    "import matplotlib.pyplot as plt\n",
    "import numpy as np\n",
    "import math"
   ]
  },
  {
   "cell_type": "code",
   "execution_count": 3,
   "metadata": {},
   "outputs": [],
   "source": [
    "## merge\n",
    "# 1. calculate rho over the entire dataset seen so far\n",
    "def calculate_rho(data, w, phi, sigma):\n",
    "    h=torch.vstack([dist.MultivariateNormal(_phi, sigma).log_prob(data) for _phi in phi])\n",
    "    log_weights = torch.log(w) + h.T # Compute log of weights * likelihood\n",
    "    log_rho = log_weights - torch.logsumexp(log_weights, dim=1, keepdim=True)  # Normalize\n",
    "    return torch.exp(log_rho).squeeze()\n",
    "\n",
    "# 2. calculate cluster similarity\n",
    "def calculate_cluster_similarity(rho, K):\n",
    "    ## TODO: make similarity metric an arg?\n",
    "    return (\n",
    "        torch.tensor(\n",
    "            [l1_loss(rho[:,i], rho[:,j], reduction='mean') if j > i else 0. \n",
    "            for i in range(K) for j in range(K)]\n",
    "        )\n",
    "        .view(K, K)\n",
    "    )\n",
    "\n",
    "# 3. identify those clusters to merge\n",
    "def get_clusters_to_merge(cluster_similarity_matrix, similarity_threshold):\n",
    "    mask = (cluster_similarity_matrix > 0) & (cluster_similarity_matrix < similarity_threshold)\n",
    "    to_merge = torch.nonzero(mask, as_tuple=False)\n",
    "    values_to_merge = cluster_similarity_matrix[mask]\n",
    "    order = torch.argsort(values_to_merge, descending=False) # order clusters in order of most similar\n",
    "    return to_merge[order]\n",
    "\n",
    "# 4. calculate merge statistics\n",
    "def get_merge_statistics(clusters_to_merge, phi, rho, K):\n",
    "    merged = []\n",
    "    all_to_prune = []\n",
    "    merge_statistics = dict()\n",
    "\n",
    "    for m in clusters_to_merge:\n",
    "        if (m[0] not in merged) and (m[1] not in merged):\n",
    "            all_to_prune.append(m[0].item()) # prune first idx\n",
    "            # use second idx as update\n",
    "            merge_statistics[m[1].item()] = {\n",
    "                'phi': (phi[m[0]] + phi[m[1]]) / 2,\n",
    "                'rho': rho[m[0]] + rho[m[1]]\n",
    "            }\n",
    "            merged.append(m[0])\n",
    "            merged.append(m[1])\n",
    "    \n",
    "    # convert to boolean tensor\n",
    "    all_to_prune = torch.tensor([i in all_to_prune for i in range(K)])\n",
    "    return merge_statistics, all_to_prune\n",
    "\n",
    "## apply merge, then apply prune\n",
    "def apply_merge(merge_statistics, phi, w):\n",
    "    phi = phi.detach() ## remove from computation graph temporarily\n",
    "    for k, v in merge_statistics.items():\n",
    "        phi[k] = v['phi']\n",
    "        w[k] = v['rho']\n",
    "    phi = phi.requires_grad_(True) # reattach to graph\n",
    "    return phi, w\n",
    "\n",
    "def prune(prune_idx: torch.Tensor, w: torch.Tensor, phi: torch.Tensor):\n",
    "    w = w[~prune_idx]\n",
    "    phi = phi[~prune_idx]\n",
    "    K = w.size(0)\n",
    "    return w, phi, K\n",
    "\n",
    "def merge_and_prune(data, w, phi, rho, sigma, K, similarity_threshold):\n",
    "    rho_prime = calculate_rho(data, w, phi, sigma)\n",
    "    cluster_similarity_matrix = calculate_cluster_similarity(rho_prime, K)\n",
    "    clusters_to_merge = get_clusters_to_merge(cluster_similarity_matrix, similarity_threshold)\n",
    "    merge_statistics, all_to_prune = get_merge_statistics(clusters_to_merge, phi, rho, K)\n",
    "    phi, w = apply_merge(merge_statistics, phi, w)\n",
    "    w, phi, K = prune(all_to_prune, w, phi)\n",
    "    return w, phi, K"
   ]
  },
  {
   "cell_type": "code",
   "execution_count": 37,
   "metadata": {},
   "outputs": [
    {
     "data": {
      "text/plain": [
       "<matplotlib.collections.PathCollection at 0x1a77d0539d0>"
      ]
     },
     "execution_count": 37,
     "metadata": {},
     "output_type": "execute_result"
    },
    {
     "data": {
      "image/png": "[encoded data removed]",
      "text/plain": [
       "<Figure size 640x480 with 1 Axes>"
      ]
     },
     "metadata": {},
     "output_type": "display_data"
    }
   ],
   "source": [
    "\n",
    "clusters = [\n",
    "    dist.MultivariateNormal(\n",
    "        torch.tensor([20*torch.cos(torch.tensor(i*math.pi/5)), 10*torch.sin(torch.tensor(i*math.pi/5))]),\n",
    "        torch.diag(torch.ones(2,))\n",
    "    ) for i in range(-5, 5)\n",
    "]\n",
    "N = 300\n",
    "raw_data = torch.stack([\n",
    "    d.sample(torch.tensor([N])) for d in clusters\n",
    "]).reshape(-1, 2) \n",
    "\n",
    "data = raw_data.detach().numpy()\n",
    "plt.scatter(\n",
    "    data[:,0],\n",
    "    data[:, 1]\n",
    ")"
   ]
  },
  {
   "cell_type": "code",
   "execution_count": 35,
   "metadata": {},
   "outputs": [
    {
     "name": "stdout",
     "output_type": "stream",
     "text": [
      "Increasing clusters to 2 at obs 2, located at: Parameter containing:\n",
      "tensor([0.6564, 9.5308], requires_grad=True)...\n",
      "Increasing clusters to 3 at obs 8, located at: Parameter containing:\n",
      "tensor([-12.0903,   6.0581], requires_grad=True)...\n",
      "Increasing clusters to 4 at obs 10, located at: Parameter containing:\n",
      "tensor([12.1109, -1.9634], requires_grad=True)...\n",
      "Increasing clusters to 5 at obs 16, located at: Parameter containing:\n",
      "tensor([-1.0573, 21.3225], requires_grad=True)...\n",
      "Increasing clusters to 6 at obs 52, located at: Parameter containing:\n",
      "tensor([7.6062, 6.0410], requires_grad=True)...\n",
      "Increasing clusters to 7 at obs 71, located at: Parameter containing:\n",
      "tensor([-17.3339,  -8.7661], requires_grad=True)...\n",
      "Pruning, remaining clusters = 7 at obs 99...\n",
      "Increasing clusters to 8 at obs 102, located at: Parameter containing:\n",
      "tensor([11.4291, -6.5009], requires_grad=True)...\n",
      "Pruning, remaining clusters = 7 at obs 199...\n",
      "Increasing clusters to 8 at obs 230, located at: Parameter containing:\n",
      "tensor([ 1.6449, 18.5999], requires_grad=True)...\n",
      "Increasing clusters to 9 at obs 297, located at: Parameter containing:\n",
      "tensor([-9.0492, 10.6689], requires_grad=True)...\n",
      "Pruning, remaining clusters = 8 at obs 299...\n",
      "Pruning, remaining clusters = 8 at obs 399...\n",
      "Pruning, remaining clusters = 8 at obs 499...\n",
      "Increasing clusters to 9 at obs 535, located at: Parameter containing:\n",
      "tensor([-13.9527,   6.3924], requires_grad=True)...\n",
      "Pruning, remaining clusters = 9 at obs 599...\n",
      "Pruning, remaining clusters = 9 at obs 699...\n",
      "Pruning, remaining clusters = 9 at obs 799...\n",
      "Pruning, remaining clusters = 9 at obs 899...\n",
      "Increasing clusters to 10 at obs 919, located at: Parameter containing:\n",
      "tensor([ -4.5660, -18.1375], requires_grad=True)...\n",
      "Pruning, remaining clusters = 9 at obs 999...\n",
      "Pruning, remaining clusters = 9 at obs 1099...\n",
      "Pruning, remaining clusters = 9 at obs 1199...\n",
      "Pruning, remaining clusters = 9 at obs 1299...\n",
      "Pruning, remaining clusters = 9 at obs 1399...\n",
      "Increasing clusters to 10 at obs 1449, located at: Parameter containing:\n",
      "tensor([ -8.8187, -15.9849], requires_grad=True)...\n",
      "Pruning, remaining clusters = 9 at obs 1499...\n",
      "Pruning, remaining clusters = 9 at obs 1599...\n",
      "Pruning, remaining clusters = 9 at obs 1699...\n",
      "Increasing clusters to 10 at obs 1737, located at: Parameter containing:\n",
      "tensor([-11.1209, -14.9186], requires_grad=True)...\n",
      "Pruning, remaining clusters = 9 at obs 1799...\n",
      "Pruning, remaining clusters = 9 at obs 1899...\n",
      "Pruning, remaining clusters = 9 at obs 1999...\n",
      "Pruning, remaining clusters = 9 at obs 2099...\n",
      "Pruning, remaining clusters = 9 at obs 2199...\n",
      "Pruning, remaining clusters = 9 at obs 2299...\n",
      "Increasing clusters to 10 at obs 2314, located at: Parameter containing:\n",
      "tensor([ -3.8535, -15.7913], requires_grad=True)...\n",
      "Pruning, remaining clusters = 9 at obs 2399...\n",
      "Pruning, remaining clusters = 9 at obs 2499...\n",
      "Increasing clusters to 10 at obs 2499, located at: Parameter containing:\n",
      "tensor([  5.0421, -12.2478], requires_grad=True)...\n",
      "Pruning, remaining clusters = 9 at obs 2599...\n",
      "Pruning, remaining clusters = 9 at obs 2699...\n",
      "Pruning, remaining clusters = 9 at obs 2799...\n",
      "Pruning, remaining clusters = 9 at obs 2899...\n",
      "Increasing clusters to 10 at obs 2987, located at: Parameter containing:\n",
      "tensor([  6.6751, -13.4359], requires_grad=True)...\n"
     ]
    }
   ],
   "source": [
    "n = raw_data.size(0)\n",
    "lr = 1.0e-3\n",
    "eps_new = .99\n",
    "\n",
    "## pruning\n",
    "eps_prune = .01\n",
    "prune_freq = 100\n",
    "\n",
    "## merging\n",
    "eps_merge = .1\n",
    "# merge_freq = 1000\n",
    "\n",
    "K = 1\n",
    "rho = torch.tensor([1.])\n",
    "w = torch.tensor([1.])\n",
    "alpha = torch.tensor([1.])\n",
    "## set up base dist (mu of theta)\n",
    "sigma = torch.diag(torch.ones(2,))\n",
    "mu0 = torch.zeros((2,))\n",
    "base_dist = dist.MultivariateNormal(mu0, 100*torch.diag(torch.ones(2,)))\n",
    "\n",
    "## create first phi\n",
    "phi = torch.nn.Parameter(raw_data[0,:]).unsqueeze(0)\n",
    "\n",
    "## shuffle data\n",
    "shuffdex = np.array(range(n))\n",
    "np.random.shuffle(shuffdex)\n",
    "data = raw_data[shuffdex,:]\n",
    "\n",
    "for idx, i in enumerate(data[1:,:]):\n",
    "    if (idx+1) % prune_freq == 0:\n",
    "        to_prune = (w / w.sum()) < eps_prune\n",
    "        w, phi, K = prune(to_prune, w, phi)\n",
    "        print(f\"Pruning, remaining clusters = {K} at obs {idx}...\")\n",
    "\n",
    "    # if (idx+1) % prune_freq == 0:\n",
    "    #     to_prune = (w / w.sum()) < eps_prune\n",
    "    #     prune_w = w[to_prune]\n",
    "    #     prune_phi = phi[to_prune]\n",
    "    #     print(\n",
    "    #         f\"Pruning at {idx + 1}...\", \n",
    "    #         f\"W:= {prune_w}\",\n",
    "    #         f\"phi:= {prune_phi}\",\n",
    "    #         sep='\\n'\n",
    "    #     )\n",
    "    #     w, phi, K = prune(to_prune, w, phi)\n",
    "        # w, phi, K = merge_and_prune(data[:idx], w, phi, rho, sigma, K, eps_merge)\n",
    "        # print(f\"merged at {idx+1}: phi: {phi}, K: {K}\")\n",
    "\n",
    "\n",
    "\n",
    "\n",
    "\n",
    "    new_phi = torch.nn.Parameter(base_dist.sample())\n",
    "    _phi = torch.vstack((phi, new_phi))\n",
    "    _w = torch.concat((w, alpha))\n",
    "\n",
    "    rho = calculate_rho(i, _w, _phi, sigma)\n",
    "\n",
    "\n",
    "\n",
    "    if rho[K] > eps_new:\n",
    "        # w is sum of rho across all previous obs\n",
    "        w += rho[:K]\n",
    "        w_next = torch.tensor([rho[K]])\n",
    "        w = torch.concat((w, w_next))\n",
    "\n",
    "        # add new params\n",
    "        phi = torch.vstack((phi, new_phi))\n",
    "        K += 1\n",
    "        print(f\"Increasing clusters to {K} at obs {idx}, located at: {new_phi}...\")\n",
    "\n",
    "    else:\n",
    "        # renormalise to exclude K+1\n",
    "        rho = rho[:K] / rho[:K].sum()\n",
    "\n",
    "        # w is sum of rho across all previous obs\n",
    "        w += rho[:K]\n",
    "\n",
    "    d = np.min([1000, (idx+1)**.91])\n",
    "    to_update = (base_dist.log_prob(phi) + d*rho.detach()*( dist.MultivariateNormal(phi, sigma).log_prob(i))).mean()\n",
    "    # to_update = (rho.detach()*( dist.MultivariateNormal(phi, sigma).log_prob(i))).mean()\n",
    "    \n",
    "\n",
    "    grad_phi = torch.autograd.grad(to_update, phi,  retain_graph=True)[0]  # Compute gradient manually\n",
    "    phi = phi + 1/d * grad_phi  # Apply gradient update\n",
    "    phi = phi.detach().requires_grad_(True)  # Detach to prevent old computation graph accumulation\n"
   ]
  },
  {
   "cell_type": "code",
   "execution_count": 36,
   "metadata": {},
   "outputs": [
    {
     "data": {
      "text/plain": [
       "<matplotlib.legend.Legend at 0x1a765f956d0>"
      ]
     },
     "execution_count": 36,
     "metadata": {},
     "output_type": "execute_result"
    },
    {
     "data": {
      "image/png": "[encoded data removed]",
      "text/plain": [
       "<Figure size 640x480 with 1 Axes>"
      ]
     },
     "metadata": {},
     "output_type": "display_data"
    }
   ],
   "source": [
    "phi_np = phi.detach().numpy()\n",
    "\n",
    "clusters = torch.argmax(\n",
    "    torch.exp(dist.MultivariateNormal(phi, sigma).log_prob(data.unsqueeze(1)) ), \n",
    "    axis=1).detach().numpy()\n",
    "\n",
    "k = data.detach().numpy()\n",
    "\n",
    "probs = (w / w.sum()).detach().numpy()\n",
    "plt.scatter(\n",
    "    k[:,0], k[:,1],\n",
    "    label='data',\n",
    "    c = clusters\n",
    ")\n",
    "plt.scatter(\n",
    "    phi_np[:,0],\n",
    "    phi_np[:,1],\n",
    "    label='means',\n",
    "    c='red',\n",
    "    # alpha = probs\n",
    ")\n",
    "\n",
    "plt.legend()"
   ]
  },
  {
   "cell_type": "code",
   "execution_count": 9,
   "metadata": {},
   "outputs": [
    {
     "data": {
      "text/plain": [
       "0.008198364952831213"
      ]
     },
     "execution_count": 9,
     "metadata": {},
     "output_type": "execute_result"
    }
   ],
   "source": [
    "1/(300*10)**.6"
   ]
  },
  {
   "cell_type": "code",
   "execution_count": 11,
   "metadata": {},
   "outputs": [
    {
     "data": {
      "text/plain": [
       "1e-05"
      ]
     },
     "execution_count": 11,
     "metadata": {},
     "output_type": "execute_result"
    }
   ],
   "source": [
    "1/100000"
   ]
  },
  {
   "cell_type": "code",
   "execution_count": null,
   "metadata": {},
   "outputs": [
    {
     "data": {
      "text/plain": [
       "tensor([0.1634, 0.0581, 0.1425, 0.0745, 0.0103, 0.1679, 0.0855, 0.1489, 0.1488],\n",
       "       grad_fn=<DivBackward0>)"
      ]
     },
     "execution_count": 102,
     "metadata": {},
     "output_type": "execute_result"
    }
   ],
   "source": [
    "def prune(prune_idx: torch.Tensor, w: torch.Tensor, phi: torch.Tensor):\n",
    "    w = w[~prune_idx]\n",
    "    phi = phi[~prune_idx]\n",
    "    K = w.size(0)\n",
    "    return w, phi, K"
   ]
  },
  {
   "cell_type": "code",
   "execution_count": 17,
   "metadata": {},
   "outputs": [
    {
     "data": {
      "text/plain": [
       "tensor(True)"
      ]
     },
     "execution_count": 17,
     "metadata": {},
     "output_type": "execute_result"
    }
   ],
   "source": [
    "(w == torch.tensor([.2, .6])).all()"
   ]
  },
  {
   "cell_type": "code",
   "execution_count": 19,
   "metadata": {},
   "outputs": [],
   "source": [
    "w = torch.tensor(\n",
    "    [.1, .1, .2, .6]\n",
    ")\n",
    "phi = torch.tensor(\n",
    "    [\n",
    "        [1,1],\n",
    "        [2,2],\n",
    "        [3,3],\n",
    "        [4,4]\n",
    "    ]\n",
    ")\n",
    "K = phi.size(0)\n",
    "to_prune = w < .2\n",
    "\n",
    "w, phi, K = prune(to_prune, w, phi)\n",
    "\n",
    "assert K == 2\n",
    "assert (w == torch.tensor([.2, .6])).all()\n",
    "assert (phi == torch.tensor([[3,3],[4,4]])).all()"
   ]
  },
  {
   "cell_type": "code",
   "execution_count": 167,
   "metadata": {},
   "outputs": [
    {
     "data": {
      "text/plain": [
       "tensor([0.0910, 0.0945, 0.0032, 0.0012, 0.0760, 0.1535, 0.0866, 0.1242, 0.0840,\n",
       "        0.1397, 0.1462], grad_fn=<DivBackward0>)"
      ]
     },
     "execution_count": 167,
     "metadata": {},
     "output_type": "execute_result"
    }
   ],
   "source": [
    "w / w.sum()"
   ]
  },
  {
   "cell_type": "code",
   "execution_count": 157,
   "metadata": {},
   "outputs": [],
   "source": [
    "rho = calculate_rho(data=data[:100], w=w, phi=phi, sigma=sigma)"
   ]
  },
  {
   "cell_type": "code",
   "execution_count": 158,
   "metadata": {},
   "outputs": [
    {
     "data": {
      "text/plain": [
       "torch.Size([100, 18])"
      ]
     },
     "execution_count": 158,
     "metadata": {},
     "output_type": "execute_result"
    }
   ],
   "source": [
    "rho.size()"
   ]
  },
  {
   "cell_type": "code",
   "execution_count": 159,
   "metadata": {},
   "outputs": [],
   "source": [
    "K = 3\n",
    "\n",
    "rho_test = torch.tensor(\n",
    "    [[0, 0, 1.],\n",
    "    [1., 0, 0],\n",
    "    [0, 0, 1.]\n",
    "    ],\n",
    ")\n",
    "# rho_test = torch.cat((rho1, rho2, rho3), dim=0)\n",
    "\n",
    "\n",
    "actual = calculate_cluster_similarity(rho, 18)"
   ]
  },
  {
   "cell_type": "code",
   "execution_count": 161,
   "metadata": {},
   "outputs": [
    {
     "data": {
      "text/plain": [
       "torch.Size([18, 18])"
      ]
     },
     "execution_count": 161,
     "metadata": {},
     "output_type": "execute_result"
    }
   ],
   "source": [
    "actual.size()"
   ]
  },
  {
   "cell_type": "code",
   "execution_count": 155,
   "metadata": {},
   "outputs": [
    {
     "data": {
      "text/plain": [
       "tensor(0.6667)"
      ]
     },
     "execution_count": 155,
     "metadata": {},
     "output_type": "execute_result"
    }
   ],
   "source": [
    "l1_loss(rho_test[1,:], rho_test[0,:], reduction='mean')"
   ]
  },
  {
   "cell_type": "code",
   "execution_count": 131,
   "metadata": {},
   "outputs": [
    {
     "data": {
      "text/plain": [
       "torch.Size([3, 18])"
      ]
     },
     "execution_count": 131,
     "metadata": {},
     "output_type": "execute_result"
    }
   ],
   "source": [
    "rho_test = calculate_rho(data[:3], w, phi, sigma)\n",
    "rho_test.size()"
   ]
  },
  {
   "cell_type": "code",
   "execution_count": 153,
   "metadata": {},
   "outputs": [
    {
     "data": {
      "text/plain": [
       "tensor([[0., 0., 1.],\n",
       "        [1., 0., 0.],\n",
       "        [0., 0., 1.]])"
      ]
     },
     "execution_count": 153,
     "metadata": {},
     "output_type": "execute_result"
    }
   ],
   "source": [
    "rho_test"
   ]
  },
  {
   "cell_type": "code",
   "execution_count": 154,
   "metadata": {},
   "outputs": [
    {
     "data": {
      "text/plain": [
       "tensor([[0.0000, 0.6667, 0.0000],\n",
       "        [0.0000, 0.0000, 0.6667],\n",
       "        [0.0000, 0.0000, 0.0000]])"
      ]
     },
     "execution_count": 154,
     "metadata": {},
     "output_type": "execute_result"
    }
   ],
   "source": [
    "(\n",
    "        torch.tensor(\n",
    "            [l1_loss(rho_test[i,:], rho_test[j,:], reduction='mean') if j > i else 0. \n",
    "            for i in range(K) for j in range(K)]\n",
    "        )\n",
    "        .view(K, K)\n",
    "    )"
   ]
  },
  {
   "cell_type": "code",
   "execution_count": 79,
   "metadata": {},
   "outputs": [
    {
     "data": {
      "text/plain": [
       "(torch.Size([9, 3]), torch.Size([100, 9]))"
      ]
     },
     "execution_count": 79,
     "metadata": {},
     "output_type": "execute_result"
    }
   ],
   "source": [
    "rho_test.size(), rho.size()"
   ]
  },
  {
   "cell_type": "code",
   "execution_count": 83,
   "metadata": {},
   "outputs": [
    {
     "data": {
      "text/plain": [
       "tensor(0.6667)"
      ]
     },
     "execution_count": 83,
     "metadata": {},
     "output_type": "execute_result"
    }
   ],
   "source": [
    "l1_loss(rho1, rho3, reduction='mean')"
   ]
  },
  {
   "cell_type": "code",
   "execution_count": null,
   "metadata": {},
   "outputs": [],
   "source": []
  },
  {
   "cell_type": "code",
   "execution_count": 44,
   "metadata": {},
   "outputs": [
    {
     "data": {
      "text/plain": [
       "tensor([[0., 0., 0.],\n",
       "        [0., 0., 0.],\n",
       "        [0., 0., 0.]])"
      ]
     },
     "execution_count": 44,
     "metadata": {},
     "output_type": "execute_result"
    }
   ],
   "source": [
    "actual"
   ]
  }
 ],
 "metadata": {
  "kernelspec": {
   "display_name": "venv",
   "language": "python",
   "name": "python3"
  },
  "language_info": {
   "codemirror_mode": {
    "name": "ipython",
    "version": 3
   },
   "file_extension": ".py",
   "mimetype": "text/x-python",
   "name": "python",
   "nbconvert_exporter": "python",
   "pygments_lexer": "ipython3",
   "version": "3.13.1"
  }
 },
 "nbformat": 4,
 "nbformat_minor": 2
}
